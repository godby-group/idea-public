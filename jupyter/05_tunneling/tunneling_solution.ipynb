{
 "cells": [
  {
   "cell_type": "markdown",
   "metadata": {},
   "source": [
    "## Asymmetric double well"
   ]
  },
  {
   "cell_type": "markdown",
   "metadata": {},
   "source": [
    "So far we have been looking at quite simple systems (quantum harmonic oscillator or a gaussian well).\n",
    "\n",
    "Now we are going to look at a slightly more complicated (and interesting!) case, which will highlight features of DFT, TDDFT and the iDEA code.\n",
    "\n",
    "Hopefully this solution is detailed enough, but if you have any comments, corrections or additions please email them to either robert.oliver@ccc.ox.ac.uk or rex.godby@york.ac.uk"
   ]
  },
  {
   "cell_type": "code",
   "execution_count": 1,
   "metadata": {
    "collapsed": true
   },
   "outputs": [],
   "source": [
    "# Import iDEA and parameters\n",
    "import iDEA\n",
    "from iDEA.input import Input\n",
    "pm = Input.from_python_file(\"parameters.py\")\n",
    "pm.check()"
   ]
  },
  {
   "cell_type": "markdown",
   "metadata": {},
   "source": [
    "At this point, everything is in its default state. The potential we're going to be using is wider than the default in iDEA, so we need to extend the system to cover a sufficent range ($x_{max} = 20$ a.u. is sensible), and also increasing the grid points to 301 to ensure convergence.\n",
    "We're at the non-interacting electron, LDA and exact solutions, for both the ground state and time depependant cases so we better switch these on. \n",
    "\n",
    "We need to increase the max time it runs for to be able to see the effect of the applied potential (which is switched on at $t=0$). We choose ($t=20$ a.u.) which then means we need to increase the max number of iteration steps (to $i_{max} = 20 001$) so keep the time step small, giving convergence. \n",
    "\n",
    "We also turn on the exact reverse engineering as this highlights another important feature of the the iDEA code. (This is a little tricker to find, as it is hidden in the \"ext\" part of the parameters file)."
   ]
  },
  {
   "cell_type": "code",
   "execution_count": 2,
   "metadata": {
    "collapsed": true
   },
   "outputs": [],
   "source": [
    "# Adjust the parameters to answer the exercise\n",
    "# NB - if your system has trouble running iDEA from the notebook, try setting pm.run.verbosity to 'low'\n",
    "pm.run.name = \"double_antisym_well_run7\"\n",
    "pm.run.HF = False\n",
    "pm.run.LDA = True\n",
    "pm.run.EXT = True\n",
    "pm.run.verbosity = 'low'\n",
    "pm.run.time_dependence = True\n",
    "pm.ext.RE = True                           #RE for reverse engineering\n",
    "pm.sys.xmax = 20.0\n",
    "pm.sys.tmax = 20.0\n",
    "pm.sys.imax = 20001\n",
    "pm.sys.grid = 301\n",
    "\n"
   ]
  },
  {
   "cell_type": "markdown",
   "metadata": {},
   "source": [
    "To change the potential, we need to define out own potential function in ipython, and then set it to $v_{ext}$. The form of the potential is a little unwieldy - you don't need to know where it comes from for the time being."
   ]
  },
  {
   "cell_type": "code",
   "execution_count": 3,
   "metadata": {
    "collapsed": true
   },
   "outputs": [],
   "source": [
    "# Change the external potential to that given above\n",
    "\n",
    "import numpy as np\n",
    "def double_antisym_pot(x):\n",
    "    return -(6.0/5.0) * np.exp(-(1.0/125.0)*(x-10)**4)-(9.0/10.0)*math.e**(-(1.0/10.0)*(x+10)**2)\n",
    "\n",
    "def v_pert(x):\n",
    "    return -0.1*x\n",
    "\n",
    "pm.sys.v_ext = double_antisym_pot\n",
    "pm.sys.v_pert = v_pert"
   ]
  },
  {
   "cell_type": "markdown",
   "metadata": {},
   "source": [
    "Let's check that this has given us what we expected:"
   ]
  },
  {
   "cell_type": "code",
   "execution_count": 34,
   "metadata": {},
   "outputs": [
    {
     "name": "stdout",
     "output_type": "stream",
     "text": [
      "The run parameters are: name = 'double_antisym_well_run7'\n",
      "time_dependence = True\n",
      "verbosity = 'low'\n",
      "save = True\n",
      "module = 'iDEA'\n",
      "NON = True\n",
      "LDA = True\n",
      "MLP = False\n",
      "HF = False\n",
      "EXT = True\n",
      "MBPT = False\n",
      "HYB = False\n",
      "LAN = False\n",
      "\n",
      "The system paramaters are: NE = 2\n",
      "grid = 301\n",
      "stencil = 3\n",
      "xmax = 20.0\n",
      "tmax = 20.0\n",
      "imax = 20001\n",
      "acon = 1.0\n",
      "interaction_strength = 1.0\n",
      "im = 0\n",
      "v_ext = <function double_antisym_pot at 0x7f651e4a0d08>\n",
      "v_pert = <function v_pert at 0x7f651e4a0950>\n",
      "v_pert_im = <function v_pert_im at 0x7f651f9ff1e0>\n",
      "\n",
      "Is reverse engineering on: True\n"
     ]
    }
   ],
   "source": [
    "# Optional (but recommended) - check that parameters file has updated as you expected\n",
    "\n",
    "print(\"The run parameters are:\", pm.run)\n",
    "print(\"The system paramaters are:\", pm.sys)\n",
    "print(\"Is reverse engineering on:\", pm.ext.RE)"
   ]
  },
  {
   "cell_type": "markdown",
   "metadata": {},
   "source": [
    "### Running iDEA\n",
    "Now we're ready to run the code, in exactly the same way as in the iDEA notebook. (Expect this to take a while as the time dependence is quite computationally intensive). "
   ]
  },
  {
   "cell_type": "code",
   "execution_count": 35,
   "metadata": {
    "collapsed": true
   },
   "outputs": [],
   "source": [
    "# Hopefully everything is good to go now, so go ahead and run iDEA\n",
    "\n",
    "results = pm.execute()"
   ]
  },
  {
   "cell_type": "markdown",
   "metadata": {},
   "source": [
    "### Plotting electron densities\n",
    "Let's have a look at some of the graphs we've produced. Again, we plot the results in axactly the same way as before. First of all, we look at how the ground state exact, LDA and non-interacting electron densities compare - hopefully your graphs look something like this!"
   ]
  },
  {
   "cell_type": "code",
   "execution_count": 48,
   "metadata": {},
   "outputs": [
    {
     "data": {
      "image/png": "[encoded data removed]"
     },
     "execution_count": 48,
     "metadata": {},
     "output_type": "execute_result"
    }
   ],
   "source": [
    "# Import matplotlib and plot each of the densities you've calculated thus far\n",
    "\n",
    "import matplotlib.pyplot as plt\n",
    "\n",
    "plt.plot(results.ext.gs_ext_den, label = \"Exact gs density\")\n",
    "plt.plot(results.non.gs_non_den, label = \"Noninteracting gs density\")\n",
    "plt.plot(results.lda.gs_lda2_den, label = \"LDA gs density\")\n",
    "plt.plot(results.ext.gs_ext_vxt, label = \"External Potential\")\n",
    "plt.legend(bbox_to_anchor=(0., 1.02, 1., .102), loc=3,\n",
    "           ncol=2, mode=\"expand\", borderaxespad=0.)\n",
    "plt.show()"
   ]
  },
  {
   "cell_type": "markdown",
   "metadata": {},
   "source": [
    "This plot highlights a couple interesting things. Firstly, we see that the \"complete neglect\" approximation of non-interacting electrons does a terrible job of describing the system. The RHS well is deeper, so in the absense of the Coulomb force between the two electrons, they both sit in this well. \n",
    "\n",
    "Secondly, we see that the LDA does a pretty good job for this system.\n",
    "\n",
    "**RETURN TO THIS**"
   ]
  },
  {
   "cell_type": "markdown",
   "metadata": {},
   "source": [
    "### Plotting the potentials\n",
    "It is illustrative to compare the KS effective potential against the external potential to see what about DFT makes it work so well. "
   ]
  },
  {
   "cell_type": "code",
   "execution_count": 37,
   "metadata": {},
   "outputs": [
    {
     "data": {
      "image/png": "[encoded data removed]"
     },
     "execution_count": 37,
     "metadata": {},
     "output_type": "execute_result"
    }
   ],
   "source": [
    "# Plot the KS potential and the external potential on the same graph\n",
    "\n",
    "plt.plot(results.ext.gs_ext_vxt, label = \"External potential\")\n",
    "plt.plot(results.extre.gs_extre_vks, label = \"Reverse engineered potential\")\n",
    "plt.legend(bbox_to_anchor=(0., 1.02, 1., .102), loc=3,\n",
    "           ncol=2, mode=\"expand\", borderaxespad=0.)\n",
    "plt.show()"
   ]
  },
  {
   "cell_type": "markdown",
   "metadata": {},
   "source": [
    "As you can see, two potentials look similar but with one important difference. (The shift of the effective potential in energy is arbitary, as one is free to choose the zero of energy.) \n",
    "\n",
    "The RHS well has been shifted up, relative to the LHS well in the effective potential. This has been done since in the fictitious KS system, the electrons are non-interacting, so to ensure that there is no preference for which well the electron would like to be in, the ground state energies of the KS potential wells must now be equal. You can see that this shift worked if you look at the plot of the electron densities. (i.e. without this step in the potential, the non-interacting electrons both sat in the RHS well, but looking at the LDA plot, we can see that it does get one electron in each well).\n",
    "\n",
    "If you're interested to know more about step and discontinuities in KS potentials, you might like to read \"Origin of static and dynamic steps in exact Kohn-Sham potentials\", M.J.P. Hodgson, J.D. Ramsden and R.W. Godby, Physical Review B 93 155146 (2016)\n",
    "\n",
    "ASIDE - it is interesting to compare the exact and LDA wavefunctions. In the exact case, the postions of the electrons are strongly entangled - if an electron is in the LHS well, the other will be found in the RHS well and vice versa. However, the LDA wavefunctions predict that each electron has a 50% chance of being found in either well. This difference doesn't show up in the density (to the accruacy of the approximation), however, so that means that the physics (eg ionisastion energy) of each system is the same!"
   ]
  },
  {
   "cell_type": "markdown",
   "metadata": {},
   "source": [
    "### Time dependence - animations\n",
    "\n",
    "As I'm sure you're aware running the time dependent part of the code for long times takes a long time! But we hope you agree that it was worth it because not only does it yield some very interesting physics, but you get to see some really cool animations! Firstly, we need to install all of the relevant packages to get this up and running, as per the Getting Started notebook."
   ]
  },
  {
   "cell_type": "code",
   "execution_count": 38,
   "metadata": {
    "collapsed": true
   },
   "outputs": [],
   "source": [
    "# Import the relevant packages for animations\n",
    "\n",
    "import numpy as np\n",
    "import matplotlib.pyplot as plt\n",
    "\n",
    "from matplotlib import animation, rc\n",
    "from IPython.display import HTML\n",
    "from iDEA.input import Input"
   ]
  },
  {
   "cell_type": "markdown",
   "metadata": {},
   "source": [
    "Now we need to import the file we want to look at. To do this we import the Results class from iDEA and results, and then read the file we're interested in, storing the results in an array. You might not have had to do this step for your solution, but including this here means that you don't have to run iDEA again to see the solutions which saves a lot of time!"
   ]
  },
  {
   "cell_type": "code",
   "execution_count": 39,
   "metadata": {},
   "outputs": [
    {
     "name": "stdout",
     "output_type": "stream",
     "text": [
      "(20001, 301)\n"
     ]
    }
   ],
   "source": [
    "#this first part shouldn't be necessary for you\n",
    "from iDEA.results import Results as rs\n",
    "file_name = 'td_ext_den'                  #Change this to the \".db\" file name you want to see, not including the .db part\n",
    "\n",
    "\n",
    "\n",
    "array = rs.read(file_name, pm)     #this ought to read:   array = results.ext.td_ext_den \n",
    "\n",
    "print(np.shape(array))"
   ]
  },
  {
   "cell_type": "markdown",
   "metadata": {},
   "source": [
    "Each row in this array stores the data for one time step, and each column the information about a grid point. (i.e. location (3756, 274) holds the information of grid point 274 at time step 3756.)\n",
    "\n",
    "Now we need to set up the background onto which we plot our animation. We set our $x$-axis to cover the range of the grid, and our $y$-axis to a height where we can see the density moving clearly."
   ]
  },
  {
   "cell_type": "code",
   "execution_count": 40,
   "metadata": {
    "collapsed": true
   },
   "outputs": [],
   "source": [
    "# Set the background for the animation\n",
    "fig, ax = plt.subplots()\n",
    "\n",
    "ax.set_xlim((0, pm.sys.grid))\n",
    "ax.set_ylim((0, 0.6))\n",
    "plt.title(file_name)\n",
    "\n",
    "line, = ax.plot([], [], lw=2)"
   ]
  },
  {
   "cell_type": "code",
   "execution_count": 41,
   "metadata": {
    "collapsed": true
   },
   "outputs": [],
   "source": [
    "# Define the init function\n",
    "def init():\n",
    "    line.set_data([], [])\n",
    "    return (line,)"
   ]
  },
  {
   "cell_type": "code",
   "execution_count": 42,
   "metadata": {
    "collapsed": true
   },
   "outputs": [],
   "source": [
    "# Define the animation function\n",
    "def animate(i):\n",
    "    x = np.arange(0,pm.sys.grid)\n",
    "    y = array[10*i,x]            # this skips every 10 frames to speed up the animation\n",
    "    line.set_data(x, y)\n",
    "    return (line,)"
   ]
  },
  {
   "cell_type": "code",
   "execution_count": 43,
   "metadata": {},
   "outputs": [
    {
     "name": "stderr",
     "output_type": "stream",
     "text": [
      "WARNING: 1 intermediate output message was discarded.\n"
     ]
    }
   ],
   "source": [
    "# Display the animation\n",
    "rc('animation', html='html5')\n",
    "animation.FuncAnimation(fig, animate, init_func=init,save_count = int(pm.sys.imax*0.1), # the *0.1 accounts for the frame skipping above\n",
    "                               interval=10, blit=True)"
   ]
  },
  {
   "cell_type": "markdown",
   "metadata": {},
   "source": [
    "We can see that this is a tunnelling system because the density doesn't grow very much in the central region, which is what we'd expect for a ballastic system. This animation shows some interesting things about the system. Firstly, as the perturbation is applied, we can see the left electron being 'poured' into the RHS well. Then when there isa significant probability of finding the electron in this well, the Coulomb repulsion is strong enough to cause the left electron to bounce back, which is why we see the density grow in the opposite direction to the perturbation at large times. "
   ]
  }
 ],
 "metadata": {
  "kernelspec": {
   "display_name": "Python 3",
   "language": "python",
   "name": "python3"
  },
  "language_info": {
   "codemirror_mode": {
    "name": "ipython",
    "version": 3
   },
   "file_extension": ".py",
   "mimetype": "text/x-python",
   "name": "python",
   "nbconvert_exporter": "python",
   "pygments_lexer": "ipython3",
   "version": "3.6.1"
  }
 },
 "nbformat": 4,
 "nbformat_minor": 1
}
