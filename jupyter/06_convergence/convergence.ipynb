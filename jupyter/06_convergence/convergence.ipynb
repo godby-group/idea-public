{
 "cells": [
  {
   "cell_type": "markdown",
   "metadata": {},
   "source": [
    "# Convergence with iDEA"
   ]
  },
  {
   "cell_type": "markdown",
   "metadata": {},
   "source": [
    "\n",
    "\n",
    "\n",
    "\n",
    "\n",
    "\n",
    "\n",
    "\n",
    "\n",
    "\n",
    "\n",
    "\n",
    "\n",
    "\n",
    "\n",
    "\n",
    "\n",
    "\n",
    "\n",
    "\n",
    "\n",
    "\n",
    "\n",
    "\n",
    "\n",
    "\n",
    "\n",
    "\n",
    "\n",
    "\n",
    "\n",
    "\n"
   ]
  },
  {
   "cell_type": "markdown",
   "metadata": {
    "collapsed": true
   },
   "source": [
    "## Introduction"
   ]
  },
  {
   "cell_type": "markdown",
   "metadata": {},
   "source": [
    "In the many-body interacting quantum particle system, there are what is known as convergence parameters. As the wavefunction is propagated, these values need to 'settle' on a result before they can be considered useful; they need to be slightly adjusted either way to assess their stability."
   ]
  },
  {
   "cell_type": "markdown",
   "metadata": {},
   "source": [
    "## How to converge\n",
    "\n",
    "To test whether the parameter in question has been conserved, it needs to be reasonably concluded that after adjusting the initial parameters ever so slightly that the final result does not change a significant amount.\n",
    "\n",
    "In this notebook, we will use the example of the total energy to test convergence. Firstly, we need to set up the environment, as normal:"
   ]
  },
  {
   "cell_type": "code",
   "execution_count": 2,
   "metadata": {
    "collapsed": true
   },
   "outputs": [],
   "source": [
    "from iDEA.input import Input\n",
    "# import plotting software\n",
    "import matplotlib.pyplot as plt\n",
    "# import parameters file into an object\n",
    "pm = Input()\n",
    "pm.run.NON = True\n",
    "pm.run.name = \"convNotebook\"\n",
    "pm.check()"
   ]
  },
  {
   "cell_type": "markdown",
   "metadata": {},
   "source": [
    "Create a loop which runs the code for different values of xmax."
   ]
  },
  {
   "cell_type": "code",
   "execution_count": 3,
   "metadata": {
    "collapsed": false
   },
   "outputs": [
    {
     "name": "stdout",
     "output_type": "stream",
     "text": [
      " xmax =  4.0, E = 0.5733 Ha\n",
      " xmax =  6.0, E = 0.5015 Ha\n",
      " xmax =  8.0, E = 0.5000 Ha\n",
      " xmax = 10.0, E = 0.5000 Ha\n"
     ]
    }
   ],
   "source": [
    "pm.run.verbosity = 'low'\n",
    "# Converging xmax parameter\n",
    "for xmax in [4,6,8,10]:\n",
    "    # Note: the dependent sys.deltax is automatically updated\n",
    "    pm.sys.xmax = xmax\n",
    "    pm.sys.grid = 401\n",
    "\n",
    "    # perform checks on input parameters\n",
    "    pm.check()\n",
    "    results = pm.execute()\n",
    "    E = results.non.gs_non_E\n",
    "    print(\" xmax = {:4.1f}, E = {:6.4f} Ha\".format(xmax,E))                                                            "
   ]
  },
  {
   "cell_type": "markdown",
   "metadata": {},
   "source": [
    "The Energy has remained the same for the last two outputs and can be said to have converged."
   ]
  },
  {
   "cell_type": "code",
   "execution_count": null,
   "metadata": {
    "collapsed": true
   },
   "outputs": [],
   "source": []
  }
 ],
 "metadata": {
  "kernelspec": {
   "display_name": "Python 3",
   "language": "python",
   "name": "python3"
  },
  "language_info": {
   "codemirror_mode": {
    "name": "ipython",
    "version": 3
   },
   "file_extension": ".py",
   "mimetype": "text/x-python",
   "name": "python",
   "nbconvert_exporter": "python",
   "pygments_lexer": "ipython3",
   "version": "3.6.0"
  }
 },
 "nbformat": 4,
 "nbformat_minor": 2
}
