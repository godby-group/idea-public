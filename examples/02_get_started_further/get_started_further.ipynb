{
 "cells": [
  {
   "cell_type": "markdown",
   "metadata": {},
   "source": [
    "# Getting Started - Further Details\n",
    "\n",
    "This notebook will introduce all of the other parameters currently in the iDEA code. Note that the explanations are only very brief, so if a proper and full understanding is to be gained, study the relevent theory notebooks. There are elementary exercises at the end of each section to test understanding, with model answers at the end of the notebook. *They are considered elementary as they should only involve changing the values of relevent parameters and plotting the result*\n"
   ]
  },
  {
   "cell_type": "code",
   "execution_count": 2,
   "metadata": {},
   "outputs": [],
   "source": [
    "# Setting up - same as previous notebook\n",
    "from iDEA.input import Input\n",
    "pm = Input.from_python_file('parameters.py')\n",
    "\n",
    "import numpy as np\n",
    "import matplotlib.pyplot as plt\n",
    "from matplotlib import animation, rc\n",
    "from IPython.display import HTML\n",
    "from iDEA.input import Input\n",
    "from iDEA.results import Results as rs"
   ]
  },
  {
   "cell_type": "markdown",
   "metadata": {},
   "source": [
    "\n",
    "## Further Parameters\n",
    "\n",
    "### Exact Many-body Calculation\n",
    "\n",
    "The exact many-body calculation is done by propagating the wavefunction in imaginary time, which eventually converges on the ground-state energy. The exact (ext) parameters are as follows:\n",
    "\n",
    "* **ext.itol**           - Tolerance of imaginary time propagation                  (~ 1e-12)\n",
    "* **ext.itol_solver**    - Tolerance of linear solver in imaginary time propagation (~ 1e-14)\n",
    "* **ext.rtol_solver**    - Tolerance of linear solver in real time propagation      (~ 1e-12)\n",
    "* **ext.itmax**          - Total imaginary time\n",
    "* **ext.iimax**          - Imaginary time iterations\n",
    "* **ext.ideltat**        - Imaginary time step (DERIVED)\n",
    "* **ext.RE**             - Reverse engineer many-body density\n",
    "* **ext.OPT**            - Calculate the external potential for the exact density\n",
    "* **ext.excited_states** - Number of excited states to calculate (0 for only ground-state)\n",
    "* **ext.psi_gs**         - Save the reduced ground-state wavefunction to file\n",
    "* **ext.psi_es**         - Save the reduced excited-state wavefunctions to file\n",
    "* **ext.initial_psi**    - initial wavefunction: qho, non, hf, lda1/2/3/heg, ext or wavefunction from previous run (e.g run_name)\n",
    "\n",
    "Tolerance describes the difference between, say for example, densities between iterations before a successful convergence has occured.\n",
    "\n",
    "Note that in the exercises, if a variable is not specified, such as electron number, take it to be the default value set in the parameters file.\n",
    "#### Exercise 1\n",
    "\n",
    "Perfom exact many-body calculations for the ground state first excited state and calculate the relevent ELF. Display these results in a graph. \n",
    "*HINT: start by printing the parameters to find out what needs to be changed to get the desired result.*"
   ]
  },
  {
   "cell_type": "code",
   "execution_count": null,
   "metadata": {},
   "outputs": [],
   "source": []
  },
  {
   "cell_type": "markdown",
   "metadata": {},
   "source": [
    "### Non-interaction approximation\n",
    "\n",
    "This is the simplest form of DFT, which acts as a baseline comparison to see whether an approximation, like the LDA, gives a good result compared to the non interacting result. The parameters are as follows:\n",
    "\n",
    "* **non.rtol_solver** - Tolerance of linear solver in real time propagation (~e-13)\n",
    "* **non.save_eig**    - Save eigenfunctions and eigenvalues of Hamiltonian\n",
    "* **non.RE**          - Reverse-engineer non-interacting density\n",
    "* **non.OPT**         - Calculate the external potential for the non-interacting density\n",
    "\n",
    "\n",
    "### Local Density Approximation\n",
    "\n",
    "This is the most common approximation used in DFT. The parameters are as follows:\n",
    "\n",
    "* **lda.NE**                   - number of electrons used for LDA construction (1, 2, 3, 'heg')\n",
    "* **lda.scf_type**            - scf type (linear, pulay, cg)\n",
    "* **lda.mix**                  - mixing parameter for linear and Pulay mixing (between 0 and 1)\n",
    "* **lda.pulay_order**          - history length for Pulay mixing (max: lda.max_iter)\n",
    "* **lda.pulay_preconditioner** - preconditioner for Pulay mixing (None, kerker, rpa)\n",
    "* **lda.kerker_length**        - length over which density flunctuations are screened (Kerker)\n",
    "* **lda.tol**                  - convergence tolerance in the density\n",
    "* **lda.etol**                 - convergence tolerance in the energy\n",
    "* **lda.max_iter**             - maximum number of self-consistency iterations\n",
    "* **lda.save_eig**             - save eigenfunctions and eigenvalues of Hamiltonian\n",
    "* **lda.OPT**                  - calculate the external potential for the LDA density\n",
    "\n",
    "For the number of electrons, 'heg' is an acronym for 'homogeneous electron gas'. There are also the types of self-consistency available: 'linear', 'pulay' and 'cg'. 'Linear' is the least complicated and used in most situations. Density fluctuations can occur, which prevents LDA from reaching self-consistency. These different methods and mixing of methods will help reach self-consistency.\n",
    "\n",
    "#### Exercise 2\n",
    "\n",
    "Perform DFT calculations for 2 electrons with the LDA approximations using 'heg' and compare with the non-interaction approximation and exact calculation by plotting the electron densities. *HINT: take a look at the parameters file directly if one cannot determine which parameter needs to be changed from the notebook's description of the parameters.*"
   ]
  },
  {
   "cell_type": "code",
   "execution_count": null,
   "metadata": {},
   "outputs": [],
   "source": []
  },
  {
   "cell_type": "markdown",
   "metadata": {},
   "source": [
    "### Hartree-Fock calculation\n",
    "\n",
    "The Hartree-Fock method is an alternative to DFT and is essentially a simplified version of many-body perturbation theory. The parameters are as follows:\n",
    "\n",
    "* **hf.fock**     - include Fock term ( 0 = Hartree approximation, 1 = Hartree-Fock approximation)\n",
    "* **hf.con**      - tolerance\n",
    "* **hf.nu**       - mixing term\n",
    "* **hf.save_eig** - save eigenfunctions and eigenvalues of the Hamiltonian\n",
    "* **hf.RE**       - reverse engineering HF density\n",
    "* **hf.OPT**      - calculate the external potential from the HF density\n",
    "\n",
    "\n",
    "#### Exercise 3\n",
    "\n",
    "Compare the electron densities for a two-electron system with the exact, non-interacting and HF. *HINT: each cycle will produce an output file. If ever in doubt of what your outputs are, take a direct look in **outputs/run_name/raw**. (run_name being the default name)*"
   ]
  },
  {
   "cell_type": "code",
   "execution_count": 4,
   "metadata": {},
   "outputs": [
    {
     "data": {
      "image/png": "[encoded data removed]",
      "text/plain": [
       "<matplotlib.figure.Figure at 0x7f52122d1320>"
      ]
     },
     "metadata": {},
     "output_type": "display_data"
    }
   ],
   "source": []
  },
  {
   "cell_type": "markdown",
   "metadata": {},
   "source": [
    "### Reverse Engineering\n",
    "\n",
    "The Reverse Engineering algorithm (for both time-independent and time-dependent systems) take the exact electron density and 'reverse engineers' the exact Kohn-Sham potential for the system. The parameters are as follows:\n",
    "\n",
    "* **re.save_eig**           - save Kohn-Sham eigenfunctions and eigen values of reverse-engineered potential\n",
    "* **re.stencil**            - discretisation of 1st derivative (5 or 7)\n",
    "* **re.mu**                 - 1st convergence parameter in the ground-state reverse-engineering algorithm\n",
    "* **re.p**                  - 2nd convergence parameter in the GS RE algorithm\n",
    "* **re.nu**                 - convergence parameter in the time-dependent RE algorithm\n",
    "* **re.rtol_solver**        - tolerance of the linear solver in real-time propagation (~1e-12)\n",
    "* **re.density_tolerance**  - tolerance of the error in the time_dependent density\n",
    "* **re.cdensity_tolerance** - tolerance of the error in the current density\n",
    "* **re.max_iterations**     - maximum number of iterations per time step to find the Kohn-Sham potential\n",
    "* **re.damping**            - damping factor used when filtering out noise in the Kohn-Sham vector potential (0: none)\n",
    "\n",
    "#### Exercise 4\n",
    "\n",
    "Reverse engineer the Kohn-Sham potential from the exact density from one of the previous exercises. The exact densities are, in fact, the same for all the exercises so the result should be the same regardless. *HINT: make sure to set the reverse-engineering parameter to True.*  "
   ]
  },
  {
   "cell_type": "code",
   "execution_count": null,
   "metadata": {},
   "outputs": [],
   "source": []
  },
  {
   "cell_type": "markdown",
   "metadata": {},
   "source": [
    "## Model Answers"
   ]
  },
  {
   "cell_type": "code",
   "execution_count": null,
   "metadata": {
    "collapsed": true
   },
   "outputs": [],
   "source": [
    "#Exercise 1\n",
    "# As always set a run_name\n",
    "pm.run.name = 'exercise_1'\n",
    "\n",
    "# Turn on the correct parameters\n",
    "pm.run.NON = False\n",
    "pm.run.EXT = True\n",
    "pm.ext.elf_gs = True\n",
    "pm.ext.elf_es = True\n",
    "pm.ext.excited_states = 1\n",
    "\n",
    "# Start the simulation\n",
    "results = pm.execute()\n",
    "\n",
    "# Plotting the results\n",
    "ex1_results = rs.read(\"es_ext_elf1\",pm)\n",
    "plt.plot(ex1_results, label=\"ELF - 1st excited state\")\n",
    "plt.legend()\n",
    "plt.show()"
   ]
  },
  {
   "cell_type": "code",
   "execution_count": null,
   "metadata": {
    "collapsed": true
   },
   "outputs": [],
   "source": [
    "#Exercise 2\n",
    "# Setting up the parameters\n",
    "# run\n",
    "pm.run.name = 'exercise_2'\n",
    "pm.run.NON = True\n",
    "pm.run.LDA = True\n",
    "pm.run.EXT = True\n",
    "# sys\n",
    "pm.sys.NE = 2\n",
    "# lda\n",
    "pm.lda.NE = 'heg'\n",
    "\n",
    "# Starting the simulation\n",
    "results = pm.execute()\n",
    "\n",
    "# Plotting the results\n",
    "ex2_lda = rs.read(\"gs_ldaheg_den\",pm)\n",
    "ex2_ext = rs.read(\"gs_ext_den\",pm)\n",
    "ex2_non = rs.read(\"gs_non_den\",pm)\n",
    "\n",
    "plt.plot(ex2_lda, label=\"lda - heg\")\n",
    "plt.plot(ex2_ext, label=\"ext\")\n",
    "plt.plot(ex2_non, label=\"non\")\n",
    "plt.legend()\n",
    "plt.show()"
   ]
  },
  {
   "cell_type": "code",
   "execution_count": null,
   "metadata": {
    "collapsed": true
   },
   "outputs": [],
   "source": [
    "# Exercise 3\n",
    "# Setting up the parameters\n",
    "# run\n",
    "pm.run.name = 'exercise_3'\n",
    "pm.run.NON  = True\n",
    "pm.run.EXT  = True\n",
    "pm.run.HF   = True\n",
    "\n",
    "#results = pm.execute()\n",
    "\n",
    "# Plotting the results\n",
    "ex3_ext   = rs.read(\"gs_ext_den\",pm)\n",
    "ex3_non   = rs.read(\"gs_non_den\",pm)\n",
    "ex3_hf    = rs.read(\"gs_hf_den\",pm)\n",
    "\n",
    "plt.plot(ex3_ext, label=\"ext\")\n",
    "plt.plot(ex3_non, label=\"non\")\n",
    "plt.plot(ex3_hf,  label=\"hf\")\n",
    "plt.legend()\n",
    "plt.show()"
   ]
  },
  {
   "cell_type": "code",
   "execution_count": null,
   "metadata": {
    "collapsed": true
   },
   "outputs": [],
   "source": [
    "# Exercise 4\n",
    "# Setting up the parameters\n",
    "\n",
    "# Reverse-engineering the exact density from exercise 2, so need to be\n",
    "# working out of the subdirectory containing that.\n",
    "pm.run.name = 'exercise_2'\n",
    "# turn off exact so that it won't rerun and overwite the previous data\n",
    "pm.run.EXT = False\n",
    "# turn off any unrelated parameters\n",
    "pm.run.NON = False\n",
    "\n",
    "# Turning on reverse-engineering\n",
    "pm.ext.RE = True\n",
    "\n",
    "#results = pm.execute()\n",
    "\n",
    "# Plotting the results\n",
    "ex4_RE   =  rs.read(\"gs_extre_vks\",pm)\n",
    "plt.plot(ex4_RE, label=\"reverse-engineered ext\")\n",
    "\n",
    "plt.legend()\n",
    "plt.show()"
   ]
  }
 ],
 "metadata": {
  "kernelspec": {
   "display_name": "Python 3",
   "language": "python",
   "name": "python3"
  },
  "language_info": {
   "codemirror_mode": {
    "name": "ipython",
    "version": 3
   },
   "file_extension": ".py",
   "mimetype": "text/x-python",
   "name": "python",
   "nbconvert_exporter": "python",
   "pygments_lexer": "ipython3",
   "version": "3.6.6"
  }
 },
 "nbformat": 4,
 "nbformat_minor": 2
}
